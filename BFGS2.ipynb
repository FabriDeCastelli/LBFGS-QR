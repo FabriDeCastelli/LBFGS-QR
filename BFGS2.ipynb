{
 "cells": [
  {
   "cell_type": "code",
   "execution_count": 1,
   "id": "da3eafa4-da5c-4da8-8746-a490121205c3",
   "metadata": {},
   "outputs": [],
   "source": [
    "using Plots: Plot, plot, plot!\n",
    "using LinearAlgebra: norm, I, eigvals, dot\n",
    "using Printf"
   ]
  },
  {
   "cell_type": "code",
   "execution_count": 7,
   "id": "b68ccd2b-6071-46f8-b96a-2832d0b66177",
   "metadata": {
    "jupyter": {
     "source_hidden": true
    }
   },
   "outputs": [
    {
     "data": {
      "text/plain": [
       "ArmijoWolfeLineSearch (generic function with 1 method)"
      ]
     },
     "execution_count": 7,
     "metadata": {},
     "output_type": "execute_result"
    }
   ],
   "source": [
    "function ArmijoWolfeLineSearch(\n",
    "        f,\n",
    "        x::AbstractArray,\n",
    "        p::AbstractArray;\n",
    "        αinit::Real=1,\n",
    "        τ::Real=1.1,\n",
    "        c1::Real=1e-4,\n",
    "        c2::Real=0.9,\n",
    "        ϵα::Real=1e-16,\n",
    "        ϵgrad::Real=1e-12,\n",
    "        safeguard::Real=0.20,\n",
    "        MaxEvaluations::Integer=1000\n",
    "    )\n",
    "\n",
    "    ϕ = (α) -> begin\n",
    "        v, _ = f(x + α * p)\n",
    "        return v\n",
    "    end\n",
    "\n",
    "    ϕd = (α) -> begin\n",
    "        _, gradient = f(x + α * p)\n",
    "        return dot(p, gradient)\n",
    "    end\n",
    "\n",
    "    α = αinit\n",
    "    local αgrad\n",
    "\n",
    "    ϕ_0 = ϕ(0)\n",
    "    ϕd_0 = ϕd(0)\n",
    "\n",
    "    while MaxEvaluations > 0\n",
    "        αcurr = ϕ(α)\n",
    "        αgrad = ϕd(α)\n",
    "        MaxEvaluations -= 1\n",
    "\n",
    "        if (αcurr ≤ ϕ_0 + c1 * α * ϕd_0) && (abs(αgrad) ≤ -c2 * ϕd_0)\n",
    "            return α\n",
    "        end\n",
    "        \n",
    "        if αgrad ≥ 0\n",
    "            break\n",
    "        end\n",
    "        α *= τ\n",
    "    end\n",
    "\n",
    "    αlo = 0\n",
    "    αhi = α\n",
    "    αlograd = ϕd_0\n",
    "    αhigrad = αgrad\n",
    "\n",
    "    while (MaxEvaluations > 0) && (αhi - αlo) > ϵα && (αgrad > ϵgrad)\n",
    "        α = (αlo * αhigrad - αhi * αlograd)/(αhigrad - αlograd)\n",
    "        α = max(\n",
    "            αlo + (αhi - αlo) * safeguard,\n",
    "            min(αhi - (αhi - αlo) * safeguard, α)\n",
    "        )\n",
    "\n",
    "        αcurr = ϕ(α)\n",
    "        αgrad = ϕd(α)\n",
    "        MaxEvaluations -= 1\n",
    "\n",
    "        if (αcurr ≤ ϕ_0 + c1 * α * ϕd_0) && (abs(αgrad) ≤ -c2 * ϕd_0)\n",
    "            break\n",
    "        end\n",
    "\n",
    "        if αgrad < 0\n",
    "            αlo = α\n",
    "            αlograd = αgrad\n",
    "        else\n",
    "            αhi = α\n",
    "            if αhi ≤ ϵα\n",
    "                break\n",
    "            end\n",
    "            αhigrad = αgrad\n",
    "        end\n",
    "    end\n",
    "\n",
    "    return α\n",
    "end"
   ]
  },
  {
   "cell_type": "code",
   "execution_count": 12,
   "id": "79ee0dc6-ac74-4e53-82ed-99d1e159215b",
   "metadata": {},
   "outputs": [
    {
     "data": {
      "text/plain": [
       "BFGS2 (generic function with 1 method)"
      ]
     },
     "execution_count": 12,
     "metadata": {},
     "output_type": "execute_result"
    }
   ],
   "source": [
    "function BFGS2(f;\n",
    "        x::Union{Nothing, Vector}=nothing,\n",
    "        ϵ::Real=1e-6\n",
    "    )\n",
    "    if isnothing(x)\n",
    "        _, x = f(nothing)\n",
    "    end\n",
    "\n",
    "    k = 0\n",
    "    _, gradient = f(x)\n",
    "    H = I\n",
    "\n",
    "    while norm(gradient) > ϵ\n",
    "        # direction from the inverse\n",
    "        p = -H * gradient\n",
    "        # direction by inverting the hessian\n",
    "        #p = H \\ -gradient\n",
    "\n",
    "        α = ArmijoWolfeLineSearch(f, x, p)\n",
    "\n",
    "        previousx = x\n",
    "        x = x + α * p\n",
    "\n",
    "        previousgradient = gradient\n",
    "        _, gradient = f(x)\n",
    "\n",
    "        s = x - previousx\n",
    "        y = gradient - previousgradient\n",
    "\n",
    "        curvature = dot(y, s)\n",
    "\n",
    "        ## dampening\n",
    "        θ = if (curvature ≥ 0.2 * s' * H * s)\n",
    "            1\n",
    "        else\n",
    "            (0.8 * s' * H * s)/(s' * H * s - curvature)\n",
    "        end\n",
    "        r = θ * y + (1 - θ) * H * s\n",
    "        \n",
    "\n",
    "        ρ = 1 / curvature\n",
    "\n",
    "        # finding already the inverse\n",
    "        #H = (I - ρ * s * y') * H * (I - ρ * y * s') + ρ * s * s'\n",
    "        #H = H + ρ * ((1 + ρ * y' * H * y) * (s * s') - H * y * s' - (H * y * s')')\n",
    "        \n",
    "        # finding only the approximated hessian\n",
    "        #H = H - (H * s * s' * H)/(s' * H * s) + (y * y')/(y' * s)\n",
    "\n",
    "        # dampened hessian\n",
    "        #H = H - (H * s * s' * H)/(s' * H * s) + (r * r')/(r' * s)\n",
    "\n",
    "        # inverse dampened hessian\n",
    "        H = (I - ρ * s * r') * H * (I - ρ * r * s') + ρ * s * s'\n",
    "    end\n",
    "\n",
    "    return (x, gradient)\n",
    "end"
   ]
  },
  {
   "cell_type": "code",
   "execution_count": 4,
   "id": "add94231-487c-4c30-ae21-000c7d05ddc1",
   "metadata": {
    "jupyter": {
     "source_hidden": true
    }
   },
   "outputs": [
    {
     "data": {
      "text/plain": [
       "sixhumpcamel (generic function with 1 method)"
      ]
     },
     "execution_count": 4,
     "metadata": {},
     "output_type": "execute_result"
    }
   ],
   "source": [
    "f = (x1, x2) -> 100 * (x2 - x1^2)^2 + (1 - x1)^2\n",
    "gf = (x1, x2) -> [-2 * (1-x1) - 400 * x1 * (- x1^2 + x2), 200 * (- x1^2 + x2)]\n",
    "hf = (x1, x2) -> [(2 + 800 * x1^2 - 400 * (-x1^2 + x2)) (-400 * x1); (-400 * x1) 200]\n",
    "\n",
    "function rosenbrock(x::Union{Nothing, AbstractVector})\n",
    "    # optimal value in (0, [1, 1], hf(1, 1))\n",
    "    if isnothing(x)\n",
    "        return (f(-1, 1), [-1, 1], hf(-1, 1))\n",
    "    end\n",
    "\n",
    "    return (f(x[1], x[2]), gf(x[1], x[2]), hf(x[1], x[2]))\n",
    "end\n",
    "\n",
    "function sixhumpcamel(x::Union{Nothing, AbstractVecOrMat})\n",
    "    if isnothing(x) # informative call\n",
    "        v = -1.03162845349\n",
    "        return (v, [1, 1], [0 0; 0 0])\n",
    "    else\n",
    "        v = ( 4 - 2.1 * x[1]^2 + x[1]^4 / 3 ) * x[1]^2 + x[1] * x[2] +\n",
    "            4 * ( x[2]^2 - 1 ) * x[2]^2  # f(x)\n",
    "\n",
    "        g = zeros(2)\n",
    "        g[1] = 2 * x[1]^5 - (42 * x[1]^3) / 5 + 8 * x[1] + x[2]\n",
    "        g[2] = 16 * x[2]^3 - 8 * x[2] + x[1]\n",
    "\n",
    "        H = zeros(2, 2)\n",
    "        H[1, 1] = 10 * x[1]^4 - ( 126 * x[1]^2 ) / 5 + 8\n",
    "        H[2, 2] = 48 * x[2]^2 - 8\n",
    "        H[2, 1] = 1\n",
    "        H[1, 2] = H[2, 1]\n",
    "\n",
    "        return (v, g, H)\n",
    "    end\n",
    "end"
   ]
  },
  {
   "cell_type": "code",
   "execution_count": 13,
   "id": "be6463b5-2611-492e-9975-68eb581addc2",
   "metadata": {},
   "outputs": [
    {
     "data": {
      "text/plain": [
       "([0.9999999823110854, 0.9999999651917256], [-2.6319958653672323e-7, 1.1391088072798539e-7])"
      ]
     },
     "execution_count": 13,
     "metadata": {},
     "output_type": "execute_result"
    }
   ],
   "source": [
    "BFGS2(rosenbrock)"
   ]
  },
  {
   "cell_type": "code",
   "execution_count": 14,
   "id": "88dfb847-cae6-4ca4-8451-206d27f8f0da",
   "metadata": {},
   "outputs": [
    {
     "data": {
      "text/plain": [
       "([0.08984201171533876, -0.7126564021700074], [-9.948294188433238e-9, 1.254848300269451e-8])"
      ]
     },
     "execution_count": 14,
     "metadata": {},
     "output_type": "execute_result"
    }
   ],
   "source": [
    "BFGS2(sixhumpcamel)"
   ]
  }
 ],
 "metadata": {
  "kernelspec": {
   "display_name": "Julia 1.9.4",
   "language": "julia",
   "name": "julia-1.9"
  },
  "language_info": {
   "file_extension": ".jl",
   "mimetype": "application/julia",
   "name": "julia",
   "version": "1.9.4"
  }
 },
 "nbformat": 4,
 "nbformat_minor": 5
}
