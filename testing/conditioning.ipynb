{
 "cells": [
  {
   "cell_type": "code",
   "execution_count": null,
   "metadata": {},
   "outputs": [],
   "source": [
    "include(\"../../utilities/dataset.jl\")\n",
    "using CSV, DataFrames\n",
    "\n",
    "baseDir = joinpath(\"../\", \"results/conditioning\")\n",
    "mkpath(baseDir);"
   ]
  },
  {
   "cell_type": "code",
   "execution_count": null,
   "metadata": {},
   "outputs": [],
   "source": [
    "lambdas = 10. .^(-15:6)\n",
    "\n",
    "outputvsc = joinpath(baseDir, \"conditioning.csv\");\n",
    "accData = Dict(\n",
    "    :lambda   => Array{Float64}(undef, 0),\n",
    "    :condnum  => Array{Float64}(undef, 0),\n",
    "    )\n",
    "\n",
    "for lambda in lambdas\n",
    "    X_hat, _, _, _ = get_dataset(\"../data_for_testing/dataset.csv\", lambda)\n",
    "    condnum = cond(X_hat)\n",
    "    push!(accData[:lambda], lambda)\n",
    "    push!(accData[:condnum], condnum)\n",
    "end\n",
    "\n",
    "df = DataFrame(accData)\n",
    "# CSV.write(outputvsc, df);"
   ]
  },
  {
   "cell_type": "code",
   "execution_count": null,
   "metadata": {},
   "outputs": [],
   "source": []
  }
 ],
 "metadata": {
  "kernelspec": {
   "display_name": "Julia 1.9.3",
   "language": "julia",
   "name": "julia-1.9"
  },
  "language_info": {
   "file_extension": ".jl",
   "mimetype": "application/julia",
   "name": "julia",
   "version": "1.9.3"
  }
 },
 "nbformat": 4,
 "nbformat_minor": 4
}
