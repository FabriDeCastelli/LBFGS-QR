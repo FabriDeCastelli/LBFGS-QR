{
 "cells": [
  {
   "cell_type": "code",
   "execution_count": 3,
   "id": "57a2b335-a7f3-4ace-a2d8-52219c4febc5",
   "metadata": {},
   "outputs": [
    {
     "name": "stderr",
     "output_type": "stream",
     "text": [
      "WARNING: replacing module housQR.\n"
     ]
    }
   ],
   "source": [
    "include(\"../QR/housQR.jl\")\n",
    "include(\"../utilities/dataset.jl\")\n",
    "using .housQR\n",
    "using LinearAlgebra: cond, norm"
   ]
  },
  {
   "cell_type": "code",
   "execution_count": 5,
   "id": "356e3edd",
   "metadata": {},
   "outputs": [
    {
     "name": "stdout",
     "output_type": "stream",
     "text": [
      "λ = 0.0, cond(X_hat): Inf\n"
     ]
    }
   ],
   "source": [
    "# lambdas = [1e-5, 1e-4, 1e-3, 1e-2, 1e-1, 1, 10, 100, 1000]\n",
    "lambdas = [0.0]\n",
    "for λ in lambdas\n",
    "    (X, y, _, _) = get_dataset(\"../data_for_testing/dataset.csv\", λ)\n",
    "    println(\"λ = $λ, cond(X_hat): \", cond(X))\n",
    "end"
   ]
  },
  {
   "cell_type": "code",
   "execution_count": 4,
   "id": "8b3d71f8-2f4f-44f0-8c97-dd9d78706163",
   "metadata": {},
   "outputs": [
    {
     "name": "stderr",
     "output_type": "stream",
     "text": [
      "WARNING: both housQR and housQR export \"qrfact\"; uses of it in module Main must be qualified\n"
     ]
    },
    {
     "ename": "LoadError",
     "evalue": "UndefVarError: `qrfact` not defined",
     "output_type": "error",
     "traceback": [
      "UndefVarError: `qrfact` not defined",
      "",
      "Stacktrace:",
      " [1] top-level scope",
      "   @ In[4]:3"
     ]
    }
   ],
   "source": [
    "QR = qrfact(X_hat)\n",
    "w = QR \\ y_hat\n",
    "relative_error = norm(w - w_optimal) / norm(w_optimal)\n",
    "residual = norm(X_hat * w - y_hat) / norm(y_hat)\n",
    "println(\"Relative error: \", relative_error)\n",
    "println(\"Residual: \", residual)\n",
    "QR * w\n",
    "\n",
    "\n",
    "\n"
   ]
  },
  {
   "cell_type": "code",
   "execution_count": null,
   "id": "c7f143dc-a80d-4326-83c1-31dac3a6e3e0",
   "metadata": {},
   "outputs": [],
   "source": [
    "A = [1. 2. 3. 1.; 6. 1. 4. 5.]\n",
    "A = qrfact(A)\n",
    "b = [1., 2]\n",
    "x = A \\ b\n",
    "@show x\n",
    "A * x"
   ]
  },
  {
   "cell_type": "code",
   "execution_count": null,
   "id": "afd34800-7b9a-4006-9849-071fa197d962",
   "metadata": {},
   "outputs": [],
   "source": [
    "using LinearAlgebra: \\, qr\n",
    "A = [1. 2.; 3. 4.; 5. 6.]\n",
    "(Q, R) = qr(A)\n",
    "x = A \\ [1., 2, 3]\n",
    "@show x\n",
    "A * x"
   ]
  },
  {
   "cell_type": "code",
   "execution_count": null,
   "id": "d7d24c53-5485-4f8a-bea3-3fe4ec1f456b",
   "metadata": {},
   "outputs": [],
   "source": [
    "using BenchmarkTools\n",
    "A=randn(10000, 100)\n",
    "a=deepcopy(A)\n",
    "y=randn(10000);"
   ]
  },
  {
   "cell_type": "code",
   "execution_count": null,
   "id": "652fe3c4-6b44-45e1-9bdc-5d7d41b55c6a",
   "metadata": {},
   "outputs": [],
   "source": [
    "A = deepcopy(a)\n",
    "@benchmark begin x = qrfact($A) \\ $y; end"
   ]
  },
  {
   "cell_type": "code",
   "execution_count": null,
   "id": "c8e93f5c-b32c-4334-bd97-9779360d5d81",
   "metadata": {},
   "outputs": [],
   "source": [
    "using LinearAlgebra\n",
    "\n",
    "@benchmark begin x = $a \\ $y; end"
   ]
  },
  {
   "cell_type": "code",
   "execution_count": null,
   "id": "43d521a7-6bf4-45c6-abb6-0a07a666570d",
   "metadata": {},
   "outputs": [],
   "source": [
    "using Profile, ProfileSVG"
   ]
  },
  {
   "cell_type": "code",
   "execution_count": null,
   "id": "9443e1c4-03dd-46cb-a8ea-652c6862dbcf",
   "metadata": {},
   "outputs": [],
   "source": [
    "A = a\n",
    "@profview qrfact(A) \\ y"
   ]
  },
  {
   "cell_type": "code",
   "execution_count": null,
   "id": "551968f9-2347-4a62-a640-22d36dd65669",
   "metadata": {},
   "outputs": [],
   "source": []
  }
 ],
 "metadata": {
  "kernelspec": {
   "display_name": "Julia 1.9.3",
   "language": "julia",
   "name": "julia-1.9"
  },
  "language_info": {
   "file_extension": ".jl",
   "mimetype": "application/julia",
   "name": "julia",
   "version": "1.9.3"
  }
 },
 "nbformat": 4,
 "nbformat_minor": 5
}
