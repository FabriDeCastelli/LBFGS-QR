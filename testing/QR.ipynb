{
 "cells": [
  {
   "cell_type": "code",
   "execution_count": 1,
   "id": "57a2b335-a7f3-4ace-a2d8-52219c4febc5",
   "metadata": {},
   "outputs": [],
   "source": [
    "include(\"../QR/housQR.jl\")\n",
    "include(\"../utilities/dataset.jl\")\n",
    "using .housQR"
   ]
  },
  {
   "cell_type": "code",
   "execution_count": 2,
   "id": "8b3d71f8-2f4f-44f0-8c97-dd9d78706163",
   "metadata": {},
   "outputs": [
    {
     "name": "stdout",
     "output_type": "stream",
     "text": [
      "Relative error: 3.053482617063076e-14\n",
      "Residual: 0.0008874191537413115\n"
     ]
    },
    {
     "data": {
      "text/plain": [
       "1010-element Vector{Float64}:\n",
       " -0.7981265296922264\n",
       " -0.5945332584024858\n",
       "  0.16482913043156946\n",
       " -0.6150299474450527\n",
       " -0.5010095453143517\n",
       "  0.2343580284335241\n",
       " -1.0721893460822756\n",
       " -1.7476852104620955\n",
       " -1.6516893251775098\n",
       " -0.33611007938689413\n",
       " -6.6984002750382354e-6\n",
       "  4.3520352353798065e-5\n",
       " -3.409203989553945e-5\n",
       "  ⋮\n",
       " -6.382488581960772e-5\n",
       " -1.7639797826055128e-5\n",
       " -3.6480713812828686e-5\n",
       "  0.00012733649609388237\n",
       " -3.782280360357353e-5\n",
       " -5.179121316823551e-5\n",
       "  9.805198685752299e-5\n",
       "  6.922302543650171e-5\n",
       " -2.4454502731469725e-5\n",
       "  5.625270733430228e-5\n",
       "  1.8908140003039844e-5\n",
       " -8.494750467622004e-5"
      ]
     },
     "execution_count": 2,
     "metadata": {},
     "output_type": "execute_result"
    }
   ],
   "source": [
    "(X_hat, y_hat, _, w_optimal) = get_dataset(\"../data_for_testing/dataset.csv\", 0.01)\n",
    "\n",
    "QR = qrfact(X_hat)\n",
    "w = QR \\ y_hat\n",
    "relative_error = norm(w - w_optimal) / norm(w_optimal)\n",
    "residual = norm(y_hat - X_hat * w) / norm(y_hat)\n",
    "println(\"Relative error: \", relative_error)\n",
    "println(\"Residual: \", residual)\n",
    "QR * w"
   ]
  },
  {
   "cell_type": "code",
   "execution_count": 3,
   "id": "c7f143dc-a80d-4326-83c1-31dac3a6e3e0",
   "metadata": {},
   "outputs": [
    {
     "name": "stdout",
     "output_type": "stream",
     "text": [
      "x = [0.27272727272727276, 0.3636363636363639, 0.0, 0.0]\n"
     ]
    },
    {
     "data": {
      "text/plain": [
       "2-element Vector{Float64}:\n",
       " 1.0000000000000004\n",
       " 2.0000000000000004"
      ]
     },
     "execution_count": 3,
     "metadata": {},
     "output_type": "execute_result"
    }
   ],
   "source": [
    "A = [1. 2. 3. 1.; 6. 1. 4. 5.]\n",
    "A = qrfact(A)\n",
    "b = [1., 2]\n",
    "x = A \\ b\n",
    "@show x\n",
    "A * x"
   ]
  },
  {
   "cell_type": "code",
   "execution_count": 4,
   "id": "afd34800-7b9a-4006-9849-071fa197d962",
   "metadata": {},
   "outputs": [
    {
     "name": "stdout",
     "output_type": "stream",
     "text": [
      "x = [5.810770900369532e-16, 0.4999999999999994]\n"
     ]
    },
    {
     "data": {
      "text/plain": [
       "3-element Vector{Float64}:\n",
       " 0.9999999999999993\n",
       " 1.9999999999999993\n",
       " 2.999999999999999"
      ]
     },
     "execution_count": 4,
     "metadata": {},
     "output_type": "execute_result"
    }
   ],
   "source": [
    "using LinearAlgebra: \\, qr\n",
    "A = [1. 2.; 3. 4.; 5. 6.]\n",
    "(Q, R) = qr(A)\n",
    "x = A \\ [1., 2, 3]\n",
    "@show x\n",
    "A * x"
   ]
  },
  {
   "cell_type": "code",
   "execution_count": null,
   "id": "d7d24c53-5485-4f8a-bea3-3fe4ec1f456b",
   "metadata": {},
   "outputs": [],
   "source": [
    "using BenchmarkTools\n",
    "A=randn(10000, 100)\n",
    "a=deepcopy(A)\n",
    "y=randn(10000);"
   ]
  },
  {
   "cell_type": "code",
   "execution_count": null,
   "id": "652fe3c4-6b44-45e1-9bdc-5d7d41b55c6a",
   "metadata": {},
   "outputs": [],
   "source": [
    "A = deepcopy(a)\n",
    "@benchmark begin x = qrfact($A) \\ $y; end"
   ]
  },
  {
   "cell_type": "code",
   "execution_count": null,
   "id": "c8e93f5c-b32c-4334-bd97-9779360d5d81",
   "metadata": {},
   "outputs": [],
   "source": [
    "using LinearAlgebra\n",
    "\n",
    "@benchmark begin x = $a \\ $y; end"
   ]
  },
  {
   "cell_type": "code",
   "execution_count": null,
   "id": "43d521a7-6bf4-45c6-abb6-0a07a666570d",
   "metadata": {},
   "outputs": [],
   "source": [
    "using Profile, ProfileSVG"
   ]
  },
  {
   "cell_type": "code",
   "execution_count": null,
   "id": "9443e1c4-03dd-46cb-a8ea-652c6862dbcf",
   "metadata": {},
   "outputs": [],
   "source": [
    "A = a\n",
    "@profview qrfact(A) \\ y"
   ]
  },
  {
   "cell_type": "code",
   "execution_count": null,
   "id": "551968f9-2347-4a62-a640-22d36dd65669",
   "metadata": {},
   "outputs": [],
   "source": []
  }
 ],
 "metadata": {
  "kernelspec": {
   "display_name": "Julia 1.9.3",
   "language": "julia",
   "name": "julia-1.9"
  },
  "language_info": {
   "file_extension": ".jl",
   "mimetype": "application/julia",
   "name": "julia",
   "version": "1.9.3"
  }
 },
 "nbformat": 4,
 "nbformat_minor": 5
}
