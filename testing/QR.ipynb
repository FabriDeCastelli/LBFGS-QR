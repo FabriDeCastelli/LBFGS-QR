{
 "cells": [
  {
   "cell_type": "code",
   "execution_count": 1,
   "id": "57a2b335-a7f3-4ace-a2d8-52219c4febc5",
   "metadata": {},
   "outputs": [],
   "source": [
    "include(\"../QR/housQR.jl\")\n",
    "include(\"../utilities/genFunc.jl\")\n",
    "using .housQR\n",
    "using LinearAlgebra, BenchmarkTools, CSV, DataFrames\n",
    "\n",
    "baseDir = joinpath(@__DIR__, \"resultsQR\")\n",
    "mkpath(baseDir);"
   ]
  },
  {
   "cell_type": "code",
   "execution_count": 7,
   "id": "356e3edd",
   "metadata": {},
   "outputs": [
    {
     "name": "stdout",
     "output_type": "stream",
     "text": [
      "Done: 1.0e-15 - nothing\n",
      "Done: 1.0e-14 - nothing\n",
      "Done: 1.0e-13 - nothing\n",
      "Done: 1.0e-12 - nothing\n",
      "Done: 1.0e-11 - nothing\n",
      "Done: 1.0e-10 - nothing\n",
      "Done: 1.0e-9 - nothing\n",
      "Done: 1.0e-8 - nothing\n",
      "Done: 1.0e-7 - nothing\n",
      "Done: 1.0e-6 - nothing\n",
      "Done: 1.0e-5 - nothing\n",
      "Done: 0.0001 - nothing\n",
      "Done: 0.001 - nothing\n",
      "Done: 0.010000000000000002 - nothing\n",
      "Done: 0.1 - nothing\n",
      "Done: 1.0 - nothing\n",
      "Done: 10.0 - nothing\n",
      "Done: 100.0 - nothing\n",
      "Done: 1000.0 - nothing\n",
      "Done: 10000.0 - nothing\n",
      "Done: 100000.0 - nothing\n",
      "Done: 1.0e6 - nothing\n"
     ]
    }
   ],
   "source": [
    "# parameters\n",
    "lambdas = 10. .^(-15:6)\n",
    "epss    = [nothing]\n",
    "m       = 300\n",
    "n       = 20\n",
    "\n",
    "\n",
    "# output csv\n",
    "outputvsc = joinpath(baseDir, \"statisticsQR-lambda-m\" * string(m) * \"n\" * string(n) * \"--time.csv\");\n",
    "accData = Dict(\n",
    "    :lambda   => Array{Float64}(undef, 0),\n",
    "    :meantime => Array{Float64}(undef, 0),\n",
    "    :stdtime  => Array{Float64}(undef, 0)\n",
    "    )\n",
    "\n",
    "# computation\n",
    "for (λ, ϵ) ∈ Iterators.product(lambdas, epss) |> collect\n",
    "    gf = genFunc(:exactRandDataset, λ=λ, m=m, n=n)\n",
    "\n",
    "    t = @benchmark begin\n",
    "        QR = qrfact($gf[:X_hat])\n",
    "        w = QR \\ $gf[:y_hat]\n",
    "    end\n",
    "\n",
    "    push!(accData[:lambda], λ)\n",
    "    push!(accData[:meantime], mean(t.times))\n",
    "    push!(accData[:stdtime], std(t.times))\n",
    "    println(\"Done: λ \" * string(λ) * \" - ϵ \" * string(ϵ))\n",
    "end\n",
    "\n",
    "CSV.write(outputvsc, DataFrame(accData));"
   ]
  },
  {
   "cell_type": "code",
   "execution_count": 10,
   "id": "8b3d71f8-2f4f-44f0-8c97-dd9d78706163",
   "metadata": {},
   "outputs": [
    {
     "name": "stdout",
     "output_type": "stream",
     "text": [
      "Done: λ 1.0e-15 - ϵ nothing\n",
      "Done: λ 1.0e-14 - ϵ nothing\n",
      "Done: λ 1.0e-13 - ϵ nothing\n",
      "Done: λ 1.0e-12 - ϵ nothing\n",
      "Done: λ 1.0e-11 - ϵ nothing\n",
      "Done: λ 1.0e-10 - ϵ nothing\n",
      "Done: λ 1.0e-9 - ϵ nothing\n",
      "Done: λ 1.0e-8 - ϵ nothing\n",
      "Done: λ 1.0e-7 - ϵ nothing\n",
      "Done: λ 1.0e-6 - ϵ nothing\n",
      "Done: λ 1.0e-5 - ϵ nothing\n",
      "Done: λ 0.0001 - ϵ nothing\n",
      "Done: λ 0.001 - ϵ nothing\n",
      "Done: λ 0.010000000000000002 - ϵ nothing\n",
      "Done: λ 0.1 - ϵ nothing\n",
      "Done: λ 1.0 - ϵ nothing\n",
      "Done: λ 10.0 - ϵ nothing\n",
      "Done: λ 100.0 - ϵ nothing\n",
      "Done: λ 1000.0 - ϵ nothing\n",
      "Done: λ 10000.0 - ϵ nothing\n",
      "Done: λ 100000.0 - ϵ nothing\n",
      "Done: λ 1.0e6 - ϵ nothing\n"
     ]
    }
   ],
   "source": [
    "# parameters\n",
    "lambdas = 10. .^(-15:6)\n",
    "epss    = [nothing]\n",
    "m       = 300\n",
    "n       = 20\n",
    "\n",
    "\n",
    "# output csv\n",
    "outputvsc = joinpath(baseDir, \"statisticsQR-lambda-m\" * string(m) * \"n\" * string(n) * \"--error.csv\");\n",
    "accData = Dict(\n",
    "    :lambda   => Array{Float64}(undef, 0),\n",
    "    :relative => Array{Float64}(undef, 0),\n",
    "    :residual => Array{Float64}(undef, 0)\n",
    "    )\n",
    "\n",
    "# computation\n",
    "for (λ, ϵ) ∈ Iterators.product(lambdas, epss) |> collect\n",
    "    gf = genFunc(:exactRandDataset, λ=λ, m=m, n=n)\n",
    "\n",
    "    QR = qrfact(gf[:X_hat])\n",
    "    w = QR \\ gf[:y_hat]\n",
    "    \n",
    "    relative_error = norm(w - gf[:w_star]) / norm(gf[:w_star])\n",
    "    residual = norm(gf[:X_hat] * w - gf[:y_hat]) / norm(gf[:y_hat])\n",
    "\n",
    "    push!(accData[:lambda], λ)\n",
    "    push!(accData[:relative], relative_error)\n",
    "    push!(accData[:residual], residual)\n",
    "    println(\"Done: λ \" * string(λ) * \" - ϵ \" * string(ϵ))\n",
    "end\n",
    "\n",
    "CSV.write(outputvsc, DataFrame(accData));"
   ]
  }
 ],
 "metadata": {
  "kernelspec": {
   "display_name": "Julia 1.10.1",
   "language": "julia",
   "name": "julia-1.10"
  },
  "language_info": {
   "file_extension": ".jl",
   "mimetype": "application/julia",
   "name": "julia",
   "version": "1.10.1"
  }
 },
 "nbformat": 4,
 "nbformat_minor": 5
}
